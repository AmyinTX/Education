{
 "cells": [
  {
   "cell_type": "markdown",
   "metadata": {},
   "source": [
    "# Education and GDP"
   ]
  },
  {
   "cell_type": "markdown",
   "metadata": {},
   "source": [
    "### The purpose of this project is to determine whether a relationship exists between educational attainment and GDP."
   ]
  },
  {
   "cell_type": "code",
   "execution_count": 1,
   "metadata": {
    "collapsed": true
   },
   "outputs": [],
   "source": [
    "# import packages\n",
    "from bs4 import BeautifulSoup\n",
    "import requests\n",
    "import pandas as pd\n",
    "import warnings # current version of seaborn generates a bunch of warnings that we'll ignore\n",
    "warnings.filterwarnings(\"ignore\")\n",
    "import seaborn as sns # try to install seaborn from home\n",
    "import matplotlib.pyplot as plt\n",
    "from scipy.stats.stats import pearsonr\n",
    "import numpy as np\n",
    "\n",
    "%matplotlib inline  \n",
    "\n",
    "# try to use fuzzywuzzy package if you have time to improve matching on country name between GDP and UN datasets\n",
    "#from fuzzywuzzy import fuzz \n",
    "#from fuzzywuzzy import process"
   ]
  },
  {
   "cell_type": "markdown",
   "metadata": {},
   "source": [
    "## Data Preparation"
   ]
  },
  {
   "cell_type": "code",
   "execution_count": 2,
   "metadata": {
    "collapsed": true
   },
   "outputs": [],
   "source": [
    "url = \"http://web.archive.org/web/20110514112442/http://unstats.un.org/unsd/demographic/products/socind/education.htm\"\n",
    "r = requests.get(url)\n",
    "data = r.text\n",
    "soup = BeautifulSoup(r.content)"
   ]
  },
  {
   "cell_type": "code",
   "execution_count": 3,
   "metadata": {
    "collapsed": true
   },
   "outputs": [],
   "source": [
    "table = soup.find_all('table')[6]\n",
    "header_html = table.find(class_='lheader').find_all('td')\n",
    "column_names = [c.text for c in header_html if len(c.text) > 0]\n",
    "rows = table.find_all('tr', {'class': 'tcont'}) \n",
    "cells = [[c.text for c in row.find_all('td')] for row in rows]"
   ]
  },
  {
   "cell_type": "code",
   "execution_count": 4,
   "metadata": {
    "collapsed": true
   },
   "outputs": [],
   "source": [
    "countries_df = pd.DataFrame(cells)\n",
    "cleaned_df = countries_df.drop([2, 3, 5, 6, 8, 9, 11], axis=1)\n",
    "cleaned_df.columns = column_names\n",
    "cleaned_df = cleaned_df[cleaned_df.Total.notnull()]"
   ]
  },
  {
   "cell_type": "code",
   "execution_count": 5,
   "metadata": {
    "collapsed": false
   },
   "outputs": [
    {
     "name": "stdout",
     "output_type": "stream",
     "text": [
      "Country or area object\n",
      "Year object\n",
      "Total object\n",
      "Men object\n",
      "Women object\n"
     ]
    }
   ],
   "source": [
    "for col in cleaned_df:\n",
    "    print(col, cleaned_df[col].dtypes)\n",
    "    \n",
    "cleaned_df['Total'] = cleaned_df['Total'].astype('int64')\n",
    "cleaned_df['Men'] = cleaned_df['Men'].astype('int64')\n",
    "cleaned_df['Women'] = cleaned_df['Women'].astype('int64')"
   ]
  },
  {
   "cell_type": "markdown",
   "metadata": {},
   "source": [
    "## Analysis of UN-Education Data"
   ]
  },
  {
   "cell_type": "code",
   "execution_count": 10,
   "metadata": {
    "collapsed": false
   },
   "outputs": [
    {
     "data": {
      "text/plain": [
       "12.333333333333334"
      ]
     },
     "execution_count": 10,
     "metadata": {},
     "output_type": "execute_result"
    }
   ],
   "source": [
    "# Total Educational Attainment\n",
    "cleaned_df['Total'].mean()"
   ]
  },
  {
   "cell_type": "code",
   "execution_count": 12,
   "metadata": {
    "collapsed": false
   },
   "outputs": [
    {
     "data": {
      "text/plain": [
       "12.451612903225806"
      ]
     },
     "execution_count": 12,
     "metadata": {},
     "output_type": "execute_result"
    }
   ],
   "source": [
    "# Women's Educational Attainment\n",
    "cleaned_df['Women'].mean()"
   ]
  },
  {
   "cell_type": "code",
   "execution_count": 8,
   "metadata": {
    "collapsed": false
   },
   "outputs": [
    {
     "data": {
      "text/plain": [
       "12.258064516129032"
      ]
     },
     "execution_count": 8,
     "metadata": {},
     "output_type": "execute_result"
    }
   ],
   "source": [
    "# Men's Educational Attainment\n",
    "cleaned_df['Men'].mean()"
   ]
  },
  {
   "cell_type": "code",
   "execution_count": 9,
   "metadata": {
    "collapsed": false
   },
   "outputs": [
    {
     "data": {
      "text/plain": [
       "<matplotlib.axes._subplots.AxesSubplot at 0x1178d1e80>"
      ]
     },
     "execution_count": 9,
     "metadata": {},
     "output_type": "execute_result"
    },
    {
     "data": {
      "image/png": "[encoded data removed]",
      "text/plain": [
       "<matplotlib.figure.Figure at 0x1178ca3c8>"
      ]
     },
     "metadata": {},
     "output_type": "display_data"
    }
   ],
   "source": [
    "sns.boxplot(cleaned_df[[\"Total\", \"Women\", \"Men\"]])"
   ]
  },
  {
   "cell_type": "markdown",
   "metadata": {},
   "source": [
    "### The figure above depicts the distribution of educational life expectancy for women and men in the UN data. In these countries, men and women achieve an average of approximately 12 years of education. However, the boxplots above show the distributions of educational attainment differs. In this case, the median might actually be a comparator, which shows  that in half of these countries, women achieve 13 years of education or more while in half of them, men attain about one fewer year of education. Yet, there is a larger range of possible values among countries for women's education as well as much greater spread of data around the mean when compared to the distribution of years of education among these countries for men. "
   ]
  },
  {
   "cell_type": "code",
   "execution_count": 12,
   "metadata": {
    "collapsed": false
   },
   "outputs": [
    {
     "data": {
      "text/plain": [
       "<seaborn.axisgrid.FacetGrid at 0x11785bdd8>"
      ]
     },
     "execution_count": 12,
     "metadata": {},
     "output_type": "execute_result"
    },
    {
     "data": {
      "image/png": "[encoded data removed]",
      "text/plain": [
       "<matplotlib.figure.Figure at 0x11785bcc0>"
      ]
     },
     "metadata": {},
     "output_type": "display_data"
    }
   ],
   "source": [
    "sns.lmplot('Women', 'Men', data=cleaned_df, fit_reg=True)"
   ]
  },
  {
   "cell_type": "markdown",
   "metadata": {},
   "source": [
    "### The scatterplot above shows that there is a positive correlation between men's and women's educational life expectancy, suggesting that women and men achieve somewhat comparable levels of education within countries."
   ]
  },
  {
   "cell_type": "code",
   "execution_count": 14,
   "metadata": {
    "collapsed": true
   },
   "outputs": [],
   "source": [
    "# GDP data\n",
    "gdp_df = pd.read_csv('/Users/amybrown/Thinkful/Unit_3/Lesson_3/clean_gdp.csv', encoding='latin')   \n",
    "gdp_df = gdp_df[gdp_df['1999'].notnull()]"
   ]
  },
  {
   "cell_type": "code",
   "execution_count": 15,
   "metadata": {
    "collapsed": true
   },
   "outputs": [],
   "source": [
    "### join GDP with cleaned_UN data\n",
    "cleaned_df = cleaned_df.rename(columns={'Country or area': 'Country Name'})\n",
    "\n",
    "keys = [c for c in gdp_df if c.startswith('19') or c.startswith('20')]\n",
    "stacked = pd.melt(gdp_df, id_vars='Country Name',  value_vars=keys, value_name='key')\n",
    "stacked = stacked.rename(columns={'variable': 'Year'})\n",
    "stacked = stacked.rename(columns={'key': 'GDP'})\n",
    "\n",
    "final_df = pd.merge(cleaned_df, stacked, on=['Country Name', 'Year'])"
   ]
  },
  {
   "cell_type": "code",
   "execution_count": 22,
   "metadata": {
    "collapsed": false
   },
   "outputs": [
    {
     "name": "stdout",
     "output_type": "stream",
     "text": [
      "Country Name object\n",
      "Year object\n",
      "Total int64\n",
      "Men int64\n",
      "Women int64\n",
      "GDP int64\n"
     ]
    }
   ],
   "source": [
    "for col in final_df:\n",
    "    print(col, final_df[col].dtypes) "
   ]
  },
  {
   "cell_type": "markdown",
   "metadata": {},
   "source": [
    "## Education and GDP: is there a relationship? "
   ]
  },
  {
   "cell_type": "code",
   "execution_count": 41,
   "metadata": {
    "collapsed": false
   },
   "outputs": [],
   "source": [
    "# first, use a log transformation on GDP\n",
    "final_df['log_gdp'] = (np.log(final_df['GDP']))\n",
    "x = (np.log(final_df['GDP']))\n",
    "y = final_df['Total']"
   ]
  },
  {
   "cell_type": "code",
   "execution_count": 42,
   "metadata": {
    "collapsed": false
   },
   "outputs": [
    {
     "data": {
      "text/plain": [
       "(0.47767316470368165, 2.8953679831667922e-05)"
      ]
     },
     "execution_count": 42,
     "metadata": {},
     "output_type": "execute_result"
    },
    {
     "data": {
      "image/png": "[encoded data removed]",
      "text/plain": [
       "<matplotlib.figure.Figure at 0x11ac68828>"
      ]
     },
     "metadata": {},
     "output_type": "display_data"
    }
   ],
   "source": [
    "sns.lmplot('log_gdp', 'Total', data=final_df, fit_reg=True)\n",
    "pearsonr(x, y)"
   ]
  },
  {
   "cell_type": "markdown",
   "metadata": {},
   "source": [
    "### The scatterplot and correlation coefficient show there is a moderate positive relationship between total educational attainment and GDP. I think it would also be interesting to examine whether and how this relationship may change when looking specifically at the educational life expectancy for women versus for men."
   ]
  },
  {
   "cell_type": "code",
   "execution_count": 43,
   "metadata": {
    "collapsed": false
   },
   "outputs": [
    {
     "data": {
      "text/plain": [
       "(0.50280751758197695, 9.1723493825170222e-06)"
      ]
     },
     "execution_count": 43,
     "metadata": {},
     "output_type": "execute_result"
    },
    {
     "data": {
      "image/png": "[encoded data removed]",
      "text/plain": [
       "<matplotlib.figure.Figure at 0x11ad96748>"
      ]
     },
     "metadata": {},
     "output_type": "display_data"
    }
   ],
   "source": [
    "# Women\n",
    "sns.lmplot('log_gdp', 'Women', data=final_df, fit_reg=True)\n",
    "y = final_df['Women']\n",
    "pearsonr(x, y)"
   ]
  },
  {
   "cell_type": "code",
   "execution_count": 44,
   "metadata": {
    "collapsed": false
   },
   "outputs": [
    {
     "data": {
      "text/plain": [
       "(0.49471901228451071, 1.3410430327990812e-05)"
      ]
     },
     "execution_count": 44,
     "metadata": {},
     "output_type": "execute_result"
    },
    {
     "data": {
      "image/png": "[encoded data removed]",
      "text/plain": [
       "<matplotlib.figure.Figure at 0x11aecb400>"
      ]
     },
     "metadata": {},
     "output_type": "display_data"
    }
   ],
   "source": [
    "# Men\n",
    "sns.lmplot('log_gdp', 'Men', data=final_df, fit_reg=True)\n",
    "y = final_df['Men']\n",
    "pearsonr(x, y)"
   ]
  },
  {
   "cell_type": "code",
   "execution_count": null,
   "metadata": {
    "collapsed": true
   },
   "outputs": [],
   "source": []
  }
 ],
 "metadata": {
  "anaconda-cloud": {},
  "kernelspec": {
   "display_name": "Python [Root]",
   "language": "python",
   "name": "Python [Root]"
  },
  "language_info": {
   "codemirror_mode": {
    "name": "ipython",
    "version": 3
   },
   "file_extension": ".py",
   "mimetype": "text/x-python",
   "name": "python",
   "nbconvert_exporter": "python",
   "pygments_lexer": "ipython3",
   "version": "3.5.2"
  }
 },
 "nbformat": 4,
 "nbformat_minor": 0
}
